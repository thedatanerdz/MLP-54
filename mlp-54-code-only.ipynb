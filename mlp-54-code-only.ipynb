{
 "cells": [
  {
   "cell_type": "code",
   "execution_count": 1,
   "id": "123d91b2",
   "metadata": {
    "execution": {
     "iopub.execute_input": "2023-07-11T14:00:28.392053Z",
     "iopub.status.busy": "2023-07-11T14:00:28.391618Z",
     "iopub.status.idle": "2023-07-11T14:00:39.987216Z",
     "shell.execute_reply": "2023-07-11T14:00:39.986180Z"
    },
    "id": "tzqd_bz_EzrV",
    "papermill": {
     "duration": 11.606701,
     "end_time": "2023-07-11T14:00:39.989802",
     "exception": false,
     "start_time": "2023-07-11T14:00:28.383101",
     "status": "completed"
    },
    "tags": []
   },
   "outputs": [
    {
     "name": "stderr",
     "output_type": "stream",
     "text": [
      "/opt/conda/lib/python3.10/site-packages/scipy/__init__.py:146: UserWarning: A NumPy version >=1.16.5 and <1.23.0 is required for this version of SciPy (detected version 1.23.5\n",
      "  warnings.warn(f\"A NumPy version >={np_minversion} and <{np_maxversion}\"\n",
      "/opt/conda/lib/python3.10/site-packages/tensorflow_io/python/ops/__init__.py:98: UserWarning: unable to load libtensorflow_io_plugins.so: unable to open file: libtensorflow_io_plugins.so, from paths: ['/opt/conda/lib/python3.10/site-packages/tensorflow_io/python/ops/libtensorflow_io_plugins.so']\n",
      "caused by: ['/opt/conda/lib/python3.10/site-packages/tensorflow_io/python/ops/libtensorflow_io_plugins.so: undefined symbol: _ZN3tsl6StatusC1EN10tensorflow5error4CodeESt17basic_string_viewIcSt11char_traitsIcEENS_14SourceLocationE']\n",
      "  warnings.warn(f\"unable to load libtensorflow_io_plugins.so: {e}\")\n",
      "/opt/conda/lib/python3.10/site-packages/tensorflow_io/python/ops/__init__.py:104: UserWarning: file system plugins are not loaded: unable to open file: libtensorflow_io.so, from paths: ['/opt/conda/lib/python3.10/site-packages/tensorflow_io/python/ops/libtensorflow_io.so']\n",
      "caused by: ['/opt/conda/lib/python3.10/site-packages/tensorflow_io/python/ops/libtensorflow_io.so: undefined symbol: _ZTVN10tensorflow13GcsFileSystemE']\n",
      "  warnings.warn(f\"file system plugins are not loaded: {e}\")\n"
     ]
    }
   ],
   "source": [
    "import numpy as np\n",
    "import pandas as pd\n",
    "import matplotlib.pyplot as plt\n",
    "from sklearn import preprocessing\n",
    "from sklearn.preprocessing import StandardScaler\n",
    "from sklearn.model_selection import train_test_split\n",
    "import seaborn as sns\n",
    "from keras.layers import Dense, BatchNormalization, Dropout, LSTM\n",
    "from keras.models import Sequential\n",
    "from tensorflow.keras.utils import to_categorical\n",
    "from keras import callbacks\n",
    "from sklearn.metrics import precision_score, recall_score, confusion_matrix, classification_report, accuracy_score, f1_score"
   ]
  },
  {
   "cell_type": "code",
   "execution_count": 2,
   "id": "67d9e1d7",
   "metadata": {
    "execution": {
     "iopub.execute_input": "2023-07-11T14:00:40.005210Z",
     "iopub.status.busy": "2023-07-11T14:00:40.003602Z",
     "iopub.status.idle": "2023-07-11T14:00:40.054050Z",
     "shell.execute_reply": "2023-07-11T14:00:40.052947Z"
    },
    "id": "tgWpND6ME4uC",
    "outputId": "5c0611c7-d3f1-4690-9edd-2dc9899ddeb5",
    "papermill": {
     "duration": 0.060615,
     "end_time": "2023-07-11T14:00:40.056816",
     "exception": false,
     "start_time": "2023-07-11T14:00:39.996201",
     "status": "completed"
    },
    "tags": []
   },
   "outputs": [
    {
     "data": {
      "text/html": [
       "<div>\n",
       "<style scoped>\n",
       "    .dataframe tbody tr th:only-of-type {\n",
       "        vertical-align: middle;\n",
       "    }\n",
       "\n",
       "    .dataframe tbody tr th {\n",
       "        vertical-align: top;\n",
       "    }\n",
       "\n",
       "    .dataframe thead th {\n",
       "        text-align: right;\n",
       "    }\n",
       "</style>\n",
       "<table border=\"1\" class=\"dataframe\">\n",
       "  <thead>\n",
       "    <tr style=\"text-align: right;\">\n",
       "      <th></th>\n",
       "      <th>age</th>\n",
       "      <th>anaemia</th>\n",
       "      <th>creatinine_phosphokinase</th>\n",
       "      <th>diabetes</th>\n",
       "      <th>ejection_fraction</th>\n",
       "      <th>high_blood_pressure</th>\n",
       "      <th>platelets</th>\n",
       "      <th>serum_creatinine</th>\n",
       "      <th>serum_sodium</th>\n",
       "      <th>sex</th>\n",
       "      <th>smoking</th>\n",
       "      <th>time</th>\n",
       "      <th>DEATH_EVENT</th>\n",
       "    </tr>\n",
       "  </thead>\n",
       "  <tbody>\n",
       "    <tr>\n",
       "      <th>0</th>\n",
       "      <td>75.0</td>\n",
       "      <td>0</td>\n",
       "      <td>582</td>\n",
       "      <td>0</td>\n",
       "      <td>20</td>\n",
       "      <td>1</td>\n",
       "      <td>265000.00</td>\n",
       "      <td>1.9</td>\n",
       "      <td>130</td>\n",
       "      <td>1</td>\n",
       "      <td>0</td>\n",
       "      <td>4</td>\n",
       "      <td>1</td>\n",
       "    </tr>\n",
       "    <tr>\n",
       "      <th>1</th>\n",
       "      <td>55.0</td>\n",
       "      <td>0</td>\n",
       "      <td>7861</td>\n",
       "      <td>0</td>\n",
       "      <td>38</td>\n",
       "      <td>0</td>\n",
       "      <td>263358.03</td>\n",
       "      <td>1.1</td>\n",
       "      <td>136</td>\n",
       "      <td>1</td>\n",
       "      <td>0</td>\n",
       "      <td>6</td>\n",
       "      <td>1</td>\n",
       "    </tr>\n",
       "    <tr>\n",
       "      <th>2</th>\n",
       "      <td>65.0</td>\n",
       "      <td>0</td>\n",
       "      <td>146</td>\n",
       "      <td>0</td>\n",
       "      <td>20</td>\n",
       "      <td>0</td>\n",
       "      <td>162000.00</td>\n",
       "      <td>1.3</td>\n",
       "      <td>129</td>\n",
       "      <td>1</td>\n",
       "      <td>1</td>\n",
       "      <td>7</td>\n",
       "      <td>1</td>\n",
       "    </tr>\n",
       "    <tr>\n",
       "      <th>3</th>\n",
       "      <td>50.0</td>\n",
       "      <td>1</td>\n",
       "      <td>111</td>\n",
       "      <td>0</td>\n",
       "      <td>20</td>\n",
       "      <td>0</td>\n",
       "      <td>210000.00</td>\n",
       "      <td>1.9</td>\n",
       "      <td>137</td>\n",
       "      <td>1</td>\n",
       "      <td>0</td>\n",
       "      <td>7</td>\n",
       "      <td>1</td>\n",
       "    </tr>\n",
       "    <tr>\n",
       "      <th>4</th>\n",
       "      <td>65.0</td>\n",
       "      <td>1</td>\n",
       "      <td>160</td>\n",
       "      <td>1</td>\n",
       "      <td>20</td>\n",
       "      <td>0</td>\n",
       "      <td>327000.00</td>\n",
       "      <td>2.7</td>\n",
       "      <td>116</td>\n",
       "      <td>0</td>\n",
       "      <td>0</td>\n",
       "      <td>8</td>\n",
       "      <td>1</td>\n",
       "    </tr>\n",
       "  </tbody>\n",
       "</table>\n",
       "</div>"
      ],
      "text/plain": [
       "    age  anaemia  creatinine_phosphokinase  diabetes  ejection_fraction  \\\n",
       "0  75.0        0                       582         0                 20   \n",
       "1  55.0        0                      7861         0                 38   \n",
       "2  65.0        0                       146         0                 20   \n",
       "3  50.0        1                       111         0                 20   \n",
       "4  65.0        1                       160         1                 20   \n",
       "\n",
       "   high_blood_pressure  platelets  serum_creatinine  serum_sodium  sex  \\\n",
       "0                    1  265000.00               1.9           130    1   \n",
       "1                    0  263358.03               1.1           136    1   \n",
       "2                    0  162000.00               1.3           129    1   \n",
       "3                    0  210000.00               1.9           137    1   \n",
       "4                    0  327000.00               2.7           116    0   \n",
       "\n",
       "   smoking  time  DEATH_EVENT  \n",
       "0        0     4            1  \n",
       "1        0     6            1  \n",
       "2        1     7            1  \n",
       "3        0     7            1  \n",
       "4        0     8            1  "
      ]
     },
     "execution_count": 2,
     "metadata": {},
     "output_type": "execute_result"
    }
   ],
   "source": [
    "#loading data\n",
    "data = pd.read_csv(\"/kaggle/input/heart-failure-clinical-data/heart_failure_clinical_records_dataset.csv\")\n",
    "data.head()"
   ]
  },
  {
   "cell_type": "code",
   "execution_count": 3,
   "id": "d5e86cdc",
   "metadata": {
    "execution": {
     "iopub.execute_input": "2023-07-11T14:00:40.071330Z",
     "iopub.status.busy": "2023-07-11T14:00:40.070940Z",
     "iopub.status.idle": "2023-07-11T14:00:40.097353Z",
     "shell.execute_reply": "2023-07-11T14:00:40.095679Z"
    },
    "id": "Ri1RvTpRFMTe",
    "outputId": "11490e45-2eb6-4736-9d92-341c82b4db9d",
    "papermill": {
     "duration": 0.036721,
     "end_time": "2023-07-11T14:00:40.100045",
     "exception": false,
     "start_time": "2023-07-11T14:00:40.063324",
     "status": "completed"
    },
    "tags": []
   },
   "outputs": [
    {
     "name": "stdout",
     "output_type": "stream",
     "text": [
      "<class 'pandas.core.frame.DataFrame'>\n",
      "RangeIndex: 299 entries, 0 to 298\n",
      "Data columns (total 13 columns):\n",
      " #   Column                    Non-Null Count  Dtype  \n",
      "---  ------                    --------------  -----  \n",
      " 0   age                       299 non-null    float64\n",
      " 1   anaemia                   299 non-null    int64  \n",
      " 2   creatinine_phosphokinase  299 non-null    int64  \n",
      " 3   diabetes                  299 non-null    int64  \n",
      " 4   ejection_fraction         299 non-null    int64  \n",
      " 5   high_blood_pressure       299 non-null    int64  \n",
      " 6   platelets                 299 non-null    float64\n",
      " 7   serum_creatinine          299 non-null    float64\n",
      " 8   serum_sodium              299 non-null    int64  \n",
      " 9   sex                       299 non-null    int64  \n",
      " 10  smoking                   299 non-null    int64  \n",
      " 11  time                      299 non-null    int64  \n",
      " 12  DEATH_EVENT               299 non-null    int64  \n",
      "dtypes: float64(3), int64(10)\n",
      "memory usage: 30.5 KB\n"
     ]
    }
   ],
   "source": [
    "data.info()"
   ]
  },
  {
   "cell_type": "code",
   "execution_count": 4,
   "id": "2f8e3feb",
   "metadata": {
    "execution": {
     "iopub.execute_input": "2023-07-11T14:00:40.114823Z",
     "iopub.status.busy": "2023-07-11T14:00:40.114448Z",
     "iopub.status.idle": "2023-07-11T14:00:40.404962Z",
     "shell.execute_reply": "2023-07-11T14:00:40.403788Z"
    },
    "id": "reguSHG4FV-i",
    "outputId": "955f4be3-1d97-429a-97b3-1cd912f742d5",
    "papermill": {
     "duration": 0.300821,
     "end_time": "2023-07-11T14:00:40.407433",
     "exception": false,
     "start_time": "2023-07-11T14:00:40.106612",
     "status": "completed"
    },
    "tags": []
   },
   "outputs": [
    {
     "data": {
      "text/plain": [
       "<Axes: xlabel='DEATH_EVENT', ylabel='count'>"
      ]
     },
     "execution_count": 4,
     "metadata": {},
     "output_type": "execute_result"
    },
    {
     "data": {
      "image/png": "[encoded data removed]",
      "text/plain": [
       "<Figure size 640x480 with 1 Axes>"
      ]
     },
     "metadata": {},
     "output_type": "display_data"
    }
   ],
   "source": [
    "#first of all let us evaluate the target and find out if our data is imbalanced or not\n",
    "cols= [\"#6daa9f\",\"#774571\"]\n",
    "sns.countplot(x= data[\"DEATH_EVENT\"], palette= cols)"
   ]
  },
  {
   "cell_type": "code",
   "execution_count": 5,
   "id": "d403748d",
   "metadata": {
    "execution": {
     "iopub.execute_input": "2023-07-11T14:00:40.423536Z",
     "iopub.status.busy": "2023-07-11T14:00:40.423139Z",
     "iopub.status.idle": "2023-07-11T14:00:40.429515Z",
     "shell.execute_reply": "2023-07-11T14:00:40.428390Z"
    },
    "id": "1ms7gFgEFYiG",
    "papermill": {
     "duration": 0.01709,
     "end_time": "2023-07-11T14:00:40.431863",
     "exception": false,
     "start_time": "2023-07-11T14:00:40.414773",
     "status": "completed"
    },
    "tags": []
   },
   "outputs": [],
   "source": [
    "#assigning values to features as X and target as y\n",
    "X=data.drop([\"DEATH_EVENT\"],axis=1)\n",
    "y=data[\"DEATH_EVENT\"]"
   ]
  },
  {
   "cell_type": "code",
   "execution_count": 6,
   "id": "7838d063",
   "metadata": {
    "execution": {
     "iopub.execute_input": "2023-07-11T14:00:40.447424Z",
     "iopub.status.busy": "2023-07-11T14:00:40.447018Z",
     "iopub.status.idle": "2023-07-11T14:00:40.507818Z",
     "shell.execute_reply": "2023-07-11T14:00:40.506657Z"
    },
    "id": "hHHvlLQbFh9V",
    "outputId": "5757e3a7-13d0-4fbd-e051-c3c101cc0210",
    "papermill": {
     "duration": 0.0718,
     "end_time": "2023-07-11T14:00:40.510640",
     "exception": false,
     "start_time": "2023-07-11T14:00:40.438840",
     "status": "completed"
    },
    "tags": []
   },
   "outputs": [
    {
     "data": {
      "text/html": [
       "<div>\n",
       "<style scoped>\n",
       "    .dataframe tbody tr th:only-of-type {\n",
       "        vertical-align: middle;\n",
       "    }\n",
       "\n",
       "    .dataframe tbody tr th {\n",
       "        vertical-align: top;\n",
       "    }\n",
       "\n",
       "    .dataframe thead th {\n",
       "        text-align: right;\n",
       "    }\n",
       "</style>\n",
       "<table border=\"1\" class=\"dataframe\">\n",
       "  <thead>\n",
       "    <tr style=\"text-align: right;\">\n",
       "      <th></th>\n",
       "      <th>count</th>\n",
       "      <th>mean</th>\n",
       "      <th>std</th>\n",
       "      <th>min</th>\n",
       "      <th>25%</th>\n",
       "      <th>50%</th>\n",
       "      <th>75%</th>\n",
       "      <th>max</th>\n",
       "    </tr>\n",
       "  </thead>\n",
       "  <tbody>\n",
       "    <tr>\n",
       "      <th>age</th>\n",
       "      <td>299.0</td>\n",
       "      <td>5.703353e-16</td>\n",
       "      <td>1.001676</td>\n",
       "      <td>-1.754448</td>\n",
       "      <td>-0.828124</td>\n",
       "      <td>-0.070223</td>\n",
       "      <td>0.771889</td>\n",
       "      <td>2.877170</td>\n",
       "    </tr>\n",
       "    <tr>\n",
       "      <th>anaemia</th>\n",
       "      <td>299.0</td>\n",
       "      <td>1.009969e-16</td>\n",
       "      <td>1.001676</td>\n",
       "      <td>-0.871105</td>\n",
       "      <td>-0.871105</td>\n",
       "      <td>-0.871105</td>\n",
       "      <td>1.147968</td>\n",
       "      <td>1.147968</td>\n",
       "    </tr>\n",
       "    <tr>\n",
       "      <th>creatinine_phosphokinase</th>\n",
       "      <td>299.0</td>\n",
       "      <td>0.000000e+00</td>\n",
       "      <td>1.001676</td>\n",
       "      <td>-0.576918</td>\n",
       "      <td>-0.480393</td>\n",
       "      <td>-0.342574</td>\n",
       "      <td>0.000166</td>\n",
       "      <td>7.514640</td>\n",
       "    </tr>\n",
       "    <tr>\n",
       "      <th>diabetes</th>\n",
       "      <td>299.0</td>\n",
       "      <td>9.060014e-17</td>\n",
       "      <td>1.001676</td>\n",
       "      <td>-0.847579</td>\n",
       "      <td>-0.847579</td>\n",
       "      <td>-0.847579</td>\n",
       "      <td>1.179830</td>\n",
       "      <td>1.179830</td>\n",
       "    </tr>\n",
       "    <tr>\n",
       "      <th>ejection_fraction</th>\n",
       "      <td>299.0</td>\n",
       "      <td>-3.267546e-17</td>\n",
       "      <td>1.001676</td>\n",
       "      <td>-2.038387</td>\n",
       "      <td>-0.684180</td>\n",
       "      <td>-0.007077</td>\n",
       "      <td>0.585389</td>\n",
       "      <td>3.547716</td>\n",
       "    </tr>\n",
       "    <tr>\n",
       "      <th>high_blood_pressure</th>\n",
       "      <td>299.0</td>\n",
       "      <td>0.000000e+00</td>\n",
       "      <td>1.001676</td>\n",
       "      <td>-0.735688</td>\n",
       "      <td>-0.735688</td>\n",
       "      <td>-0.735688</td>\n",
       "      <td>1.359272</td>\n",
       "      <td>1.359272</td>\n",
       "    </tr>\n",
       "    <tr>\n",
       "      <th>platelets</th>\n",
       "      <td>299.0</td>\n",
       "      <td>7.723291e-17</td>\n",
       "      <td>1.001676</td>\n",
       "      <td>-2.440155</td>\n",
       "      <td>-0.520870</td>\n",
       "      <td>-0.013908</td>\n",
       "      <td>0.411120</td>\n",
       "      <td>6.008180</td>\n",
       "    </tr>\n",
       "    <tr>\n",
       "      <th>serum_creatinine</th>\n",
       "      <td>299.0</td>\n",
       "      <td>1.425838e-16</td>\n",
       "      <td>1.001676</td>\n",
       "      <td>-0.865509</td>\n",
       "      <td>-0.478205</td>\n",
       "      <td>-0.284552</td>\n",
       "      <td>0.005926</td>\n",
       "      <td>7.752020</td>\n",
       "    </tr>\n",
       "    <tr>\n",
       "      <th>serum_sodium</th>\n",
       "      <td>299.0</td>\n",
       "      <td>-8.673849e-16</td>\n",
       "      <td>1.001676</td>\n",
       "      <td>-5.363206</td>\n",
       "      <td>-0.595996</td>\n",
       "      <td>0.085034</td>\n",
       "      <td>0.766064</td>\n",
       "      <td>2.582144</td>\n",
       "    </tr>\n",
       "    <tr>\n",
       "      <th>sex</th>\n",
       "      <td>299.0</td>\n",
       "      <td>-8.911489e-18</td>\n",
       "      <td>1.001676</td>\n",
       "      <td>-1.359272</td>\n",
       "      <td>-1.359272</td>\n",
       "      <td>0.735688</td>\n",
       "      <td>0.735688</td>\n",
       "      <td>0.735688</td>\n",
       "    </tr>\n",
       "    <tr>\n",
       "      <th>smoking</th>\n",
       "      <td>299.0</td>\n",
       "      <td>-1.188199e-17</td>\n",
       "      <td>1.001676</td>\n",
       "      <td>-0.687682</td>\n",
       "      <td>-0.687682</td>\n",
       "      <td>-0.687682</td>\n",
       "      <td>1.454161</td>\n",
       "      <td>1.454161</td>\n",
       "    </tr>\n",
       "    <tr>\n",
       "      <th>time</th>\n",
       "      <td>299.0</td>\n",
       "      <td>-1.901118e-16</td>\n",
       "      <td>1.001676</td>\n",
       "      <td>-1.629502</td>\n",
       "      <td>-0.739000</td>\n",
       "      <td>-0.196954</td>\n",
       "      <td>0.938759</td>\n",
       "      <td>1.997038</td>\n",
       "    </tr>\n",
       "  </tbody>\n",
       "</table>\n",
       "</div>"
      ],
      "text/plain": [
       "                          count          mean       std       min       25%  \\\n",
       "age                       299.0  5.703353e-16  1.001676 -1.754448 -0.828124   \n",
       "anaemia                   299.0  1.009969e-16  1.001676 -0.871105 -0.871105   \n",
       "creatinine_phosphokinase  299.0  0.000000e+00  1.001676 -0.576918 -0.480393   \n",
       "diabetes                  299.0  9.060014e-17  1.001676 -0.847579 -0.847579   \n",
       "ejection_fraction         299.0 -3.267546e-17  1.001676 -2.038387 -0.684180   \n",
       "high_blood_pressure       299.0  0.000000e+00  1.001676 -0.735688 -0.735688   \n",
       "platelets                 299.0  7.723291e-17  1.001676 -2.440155 -0.520870   \n",
       "serum_creatinine          299.0  1.425838e-16  1.001676 -0.865509 -0.478205   \n",
       "serum_sodium              299.0 -8.673849e-16  1.001676 -5.363206 -0.595996   \n",
       "sex                       299.0 -8.911489e-18  1.001676 -1.359272 -1.359272   \n",
       "smoking                   299.0 -1.188199e-17  1.001676 -0.687682 -0.687682   \n",
       "time                      299.0 -1.901118e-16  1.001676 -1.629502 -0.739000   \n",
       "\n",
       "                               50%       75%       max  \n",
       "age                      -0.070223  0.771889  2.877170  \n",
       "anaemia                  -0.871105  1.147968  1.147968  \n",
       "creatinine_phosphokinase -0.342574  0.000166  7.514640  \n",
       "diabetes                 -0.847579  1.179830  1.179830  \n",
       "ejection_fraction        -0.007077  0.585389  3.547716  \n",
       "high_blood_pressure      -0.735688  1.359272  1.359272  \n",
       "platelets                -0.013908  0.411120  6.008180  \n",
       "serum_creatinine         -0.284552  0.005926  7.752020  \n",
       "serum_sodium              0.085034  0.766064  2.582144  \n",
       "sex                       0.735688  0.735688  0.735688  \n",
       "smoking                  -0.687682  1.454161  1.454161  \n",
       "time                     -0.196954  0.938759  1.997038  "
      ]
     },
     "execution_count": 6,
     "metadata": {},
     "output_type": "execute_result"
    }
   ],
   "source": [
    "#Set up a standard scaler for the features\n",
    "col_names = list(X.columns)\n",
    "s_scaler = preprocessing.StandardScaler()\n",
    "X_df= s_scaler.fit_transform(X)\n",
    "X_df = pd.DataFrame(X_df, columns=col_names)   \n",
    "X_df.describe().T"
   ]
  },
  {
   "cell_type": "code",
   "execution_count": 7,
   "id": "4739c528",
   "metadata": {
    "execution": {
     "iopub.execute_input": "2023-07-11T14:00:40.528333Z",
     "iopub.status.busy": "2023-07-11T14:00:40.527902Z",
     "iopub.status.idle": "2023-07-11T14:00:40.537152Z",
     "shell.execute_reply": "2023-07-11T14:00:40.535937Z"
    },
    "id": "SUDec_F6F0qT",
    "papermill": {
     "duration": 0.021247,
     "end_time": "2023-07-11T14:00:40.539546",
     "exception": false,
     "start_time": "2023-07-11T14:00:40.518299",
     "status": "completed"
    },
    "tags": []
   },
   "outputs": [],
   "source": [
    "#spliting test and training sets\n",
    "X_train, X_test, y_train,y_test = train_test_split(X_df,y,test_size=0.25,random_state=7)"
   ]
  },
  {
   "cell_type": "code",
   "execution_count": 8,
   "id": "2f7379e6",
   "metadata": {
    "execution": {
     "iopub.execute_input": "2023-07-11T14:00:40.556651Z",
     "iopub.status.busy": "2023-07-11T14:00:40.556177Z",
     "iopub.status.idle": "2023-07-11T14:00:40.801621Z",
     "shell.execute_reply": "2023-07-11T14:00:40.800473Z"
    },
    "id": "VbJtwD3WF619",
    "papermill": {
     "duration": 0.257068,
     "end_time": "2023-07-11T14:00:40.804344",
     "exception": false,
     "start_time": "2023-07-11T14:00:40.547276",
     "status": "completed"
    },
    "tags": []
   },
   "outputs": [],
   "source": [
    "early_stopping = callbacks.EarlyStopping(\n",
    "    min_delta=0.001, # minimium amount of change to count as an improvement\n",
    "    patience=30, # how many epochs to wait before stopping\n",
    "    restore_best_weights=True)\n",
    "\n",
    "# Initialising the NN\n",
    "model = Sequential()\n",
    "\n",
    "# layers\n",
    "model.add(Dense(units = 16, kernel_initializer = 'uniform', activation = 'relu', input_dim = 12))\n",
    "model.add(Dense(units = 8, kernel_initializer = 'uniform', activation = 'relu'))\n",
    "model.add(Dropout(0.25))\n",
    "model.add(Dense(units = 4, kernel_initializer = 'uniform', activation = 'relu'))\n",
    "model.add(Dropout(0.5))\n",
    "model.add(Dense(units = 1, kernel_initializer = 'uniform', activation = 'sigmoid'))\n",
    "from tensorflow.keras.optimizers import SGD\n",
    "# Compiling the ANN\n",
    "model.compile(optimizer = 'adam', loss = 'binary_crossentropy', metrics = ['accuracy'])\n"
   ]
  },
  {
   "cell_type": "code",
   "execution_count": 9,
   "id": "ab7278b7",
   "metadata": {
    "execution": {
     "iopub.execute_input": "2023-07-11T14:00:40.821684Z",
     "iopub.status.busy": "2023-07-11T14:00:40.820990Z",
     "iopub.status.idle": "2023-07-11T14:00:48.383917Z",
     "shell.execute_reply": "2023-07-11T14:00:48.382796Z"
    },
    "id": "P0iLfCtbGFn7",
    "outputId": "fc5d44a9-b44a-4fec-a9a0-1144cc046794",
    "papermill": {
     "duration": 7.574582,
     "end_time": "2023-07-11T14:00:48.386585",
     "exception": false,
     "start_time": "2023-07-11T14:00:40.812003",
     "status": "completed"
    },
    "tags": []
   },
   "outputs": [
    {
     "name": "stdout",
     "output_type": "stream",
     "text": [
      "Epoch 1/500\n",
      "6/6 [==============================] - 2s 60ms/step - loss: 0.6928 - accuracy: 0.6480 - val_loss: 0.6923 - val_accuracy: 0.6667\n",
      "Epoch 2/500\n",
      "6/6 [==============================] - 0s 8ms/step - loss: 0.6920 - accuracy: 0.6480 - val_loss: 0.6913 - val_accuracy: 0.6667\n",
      "Epoch 3/500\n",
      "6/6 [==============================] - 0s 8ms/step - loss: 0.6911 - accuracy: 0.6480 - val_loss: 0.6903 - val_accuracy: 0.6667\n",
      "Epoch 4/500\n",
      "6/6 [==============================] - 0s 8ms/step - loss: 0.6902 - accuracy: 0.6480 - val_loss: 0.6893 - val_accuracy: 0.6667\n",
      "Epoch 5/500\n",
      "6/6 [==============================] - 0s 12ms/step - loss: 0.6892 - accuracy: 0.6480 - val_loss: 0.6882 - val_accuracy: 0.6667\n",
      "Epoch 6/500\n",
      "6/6 [==============================] - 0s 9ms/step - loss: 0.6882 - accuracy: 0.6480 - val_loss: 0.6871 - val_accuracy: 0.6667\n",
      "Epoch 7/500\n",
      "6/6 [==============================] - 0s 9ms/step - loss: 0.6874 - accuracy: 0.6480 - val_loss: 0.6858 - val_accuracy: 0.6667\n",
      "Epoch 8/500\n",
      "6/6 [==============================] - 0s 8ms/step - loss: 0.6862 - accuracy: 0.6480 - val_loss: 0.6844 - val_accuracy: 0.6667\n",
      "Epoch 9/500\n",
      "6/6 [==============================] - 0s 9ms/step - loss: 0.6846 - accuracy: 0.6480 - val_loss: 0.6829 - val_accuracy: 0.6667\n",
      "Epoch 10/500\n",
      "6/6 [==============================] - 0s 9ms/step - loss: 0.6837 - accuracy: 0.6480 - val_loss: 0.6810 - val_accuracy: 0.6667\n",
      "Epoch 11/500\n",
      "6/6 [==============================] - 0s 8ms/step - loss: 0.6814 - accuracy: 0.6480 - val_loss: 0.6787 - val_accuracy: 0.6667\n",
      "Epoch 12/500\n",
      "6/6 [==============================] - 0s 8ms/step - loss: 0.6803 - accuracy: 0.6480 - val_loss: 0.6761 - val_accuracy: 0.6667\n",
      "Epoch 13/500\n",
      "6/6 [==============================] - 0s 9ms/step - loss: 0.6772 - accuracy: 0.6480 - val_loss: 0.6728 - val_accuracy: 0.6667\n",
      "Epoch 14/500\n",
      "6/6 [==============================] - 0s 9ms/step - loss: 0.6725 - accuracy: 0.6480 - val_loss: 0.6688 - val_accuracy: 0.6667\n",
      "Epoch 15/500\n",
      "6/6 [==============================] - 0s 8ms/step - loss: 0.6686 - accuracy: 0.6480 - val_loss: 0.6637 - val_accuracy: 0.6667\n",
      "Epoch 16/500\n",
      "6/6 [==============================] - 0s 9ms/step - loss: 0.6623 - accuracy: 0.6480 - val_loss: 0.6573 - val_accuracy: 0.6667\n",
      "Epoch 17/500\n",
      "6/6 [==============================] - 0s 9ms/step - loss: 0.6577 - accuracy: 0.6480 - val_loss: 0.6498 - val_accuracy: 0.6667\n",
      "Epoch 18/500\n",
      "6/6 [==============================] - 0s 9ms/step - loss: 0.6488 - accuracy: 0.6480 - val_loss: 0.6410 - val_accuracy: 0.6667\n",
      "Epoch 19/500\n",
      "6/6 [==============================] - 0s 9ms/step - loss: 0.6428 - accuracy: 0.6480 - val_loss: 0.6311 - val_accuracy: 0.6667\n",
      "Epoch 20/500\n",
      "6/6 [==============================] - 0s 9ms/step - loss: 0.6321 - accuracy: 0.6480 - val_loss: 0.6201 - val_accuracy: 0.6667\n",
      "Epoch 21/500\n",
      "6/6 [==============================] - 0s 9ms/step - loss: 0.6250 - accuracy: 0.6480 - val_loss: 0.6073 - val_accuracy: 0.6667\n",
      "Epoch 22/500\n",
      "6/6 [==============================] - 0s 9ms/step - loss: 0.6130 - accuracy: 0.6480 - val_loss: 0.5930 - val_accuracy: 0.6667\n",
      "Epoch 23/500\n",
      "6/6 [==============================] - 0s 11ms/step - loss: 0.5869 - accuracy: 0.6480 - val_loss: 0.5784 - val_accuracy: 0.6667\n",
      "Epoch 24/500\n",
      "6/6 [==============================] - 0s 9ms/step - loss: 0.5976 - accuracy: 0.6480 - val_loss: 0.5646 - val_accuracy: 0.6667\n",
      "Epoch 25/500\n",
      "6/6 [==============================] - 0s 8ms/step - loss: 0.5839 - accuracy: 0.6480 - val_loss: 0.5524 - val_accuracy: 0.6667\n",
      "Epoch 26/500\n",
      "6/6 [==============================] - 0s 8ms/step - loss: 0.5608 - accuracy: 0.6480 - val_loss: 0.5416 - val_accuracy: 0.6667\n",
      "Epoch 27/500\n",
      "6/6 [==============================] - 0s 8ms/step - loss: 0.5560 - accuracy: 0.6480 - val_loss: 0.5309 - val_accuracy: 0.6667\n",
      "Epoch 28/500\n",
      "6/6 [==============================] - 0s 8ms/step - loss: 0.5386 - accuracy: 0.6480 - val_loss: 0.5212 - val_accuracy: 0.6667\n",
      "Epoch 29/500\n",
      "6/6 [==============================] - 0s 8ms/step - loss: 0.5218 - accuracy: 0.6480 - val_loss: 0.5122 - val_accuracy: 0.6667\n",
      "Epoch 30/500\n",
      "6/6 [==============================] - 0s 8ms/step - loss: 0.5339 - accuracy: 0.6480 - val_loss: 0.5066 - val_accuracy: 0.6667\n",
      "Epoch 31/500\n",
      "6/6 [==============================] - 0s 9ms/step - loss: 0.5346 - accuracy: 0.6480 - val_loss: 0.5025 - val_accuracy: 0.6667\n",
      "Epoch 32/500\n",
      "6/6 [==============================] - 0s 8ms/step - loss: 0.5183 - accuracy: 0.6480 - val_loss: 0.5009 - val_accuracy: 0.6667\n",
      "Epoch 33/500\n",
      "6/6 [==============================] - 0s 9ms/step - loss: 0.5184 - accuracy: 0.6480 - val_loss: 0.4994 - val_accuracy: 0.6667\n",
      "Epoch 34/500\n",
      "6/6 [==============================] - 0s 9ms/step - loss: 0.5265 - accuracy: 0.6480 - val_loss: 0.4981 - val_accuracy: 0.6667\n",
      "Epoch 35/500\n",
      "6/6 [==============================] - 0s 8ms/step - loss: 0.5063 - accuracy: 0.6480 - val_loss: 0.4974 - val_accuracy: 0.6667\n",
      "Epoch 36/500\n",
      "6/6 [==============================] - 0s 8ms/step - loss: 0.5116 - accuracy: 0.6480 - val_loss: 0.4973 - val_accuracy: 0.6667\n",
      "Epoch 37/500\n",
      "6/6 [==============================] - 0s 9ms/step - loss: 0.4824 - accuracy: 0.6480 - val_loss: 0.4979 - val_accuracy: 0.6667\n",
      "Epoch 38/500\n",
      "6/6 [==============================] - 0s 12ms/step - loss: 0.5231 - accuracy: 0.6480 - val_loss: 0.4986 - val_accuracy: 0.6667\n",
      "Epoch 39/500\n",
      "6/6 [==============================] - 0s 8ms/step - loss: 0.5058 - accuracy: 0.6480 - val_loss: 0.4999 - val_accuracy: 0.6667\n",
      "Epoch 40/500\n",
      "6/6 [==============================] - 0s 13ms/step - loss: 0.4862 - accuracy: 0.6480 - val_loss: 0.5022 - val_accuracy: 0.6667\n",
      "Epoch 41/500\n",
      "6/6 [==============================] - 0s 10ms/step - loss: 0.5034 - accuracy: 0.6480 - val_loss: 0.5042 - val_accuracy: 0.6667\n",
      "Epoch 42/500\n",
      "6/6 [==============================] - 0s 8ms/step - loss: 0.5285 - accuracy: 0.6536 - val_loss: 0.5041 - val_accuracy: 0.6667\n",
      "Epoch 43/500\n",
      "6/6 [==============================] - 0s 8ms/step - loss: 0.4866 - accuracy: 0.6592 - val_loss: 0.5040 - val_accuracy: 0.6667\n",
      "Epoch 44/500\n",
      "6/6 [==============================] - 0s 12ms/step - loss: 0.4827 - accuracy: 0.7151 - val_loss: 0.5043 - val_accuracy: 0.6667\n",
      "Epoch 45/500\n",
      "6/6 [==============================] - 0s 9ms/step - loss: 0.5022 - accuracy: 0.7263 - val_loss: 0.5048 - val_accuracy: 0.7111\n",
      "Epoch 46/500\n",
      "6/6 [==============================] - 0s 8ms/step - loss: 0.4905 - accuracy: 0.7765 - val_loss: 0.5044 - val_accuracy: 0.7556\n",
      "Epoch 47/500\n",
      "6/6 [==============================] - 0s 8ms/step - loss: 0.4602 - accuracy: 0.7207 - val_loss: 0.5044 - val_accuracy: 0.7556\n",
      "Epoch 48/500\n",
      "6/6 [==============================] - 0s 8ms/step - loss: 0.4839 - accuracy: 0.7486 - val_loss: 0.5052 - val_accuracy: 0.7778\n",
      "Epoch 49/500\n",
      "6/6 [==============================] - 0s 8ms/step - loss: 0.4876 - accuracy: 0.7542 - val_loss: 0.5040 - val_accuracy: 0.8222\n",
      "Epoch 50/500\n",
      "6/6 [==============================] - 0s 8ms/step - loss: 0.4569 - accuracy: 0.8045 - val_loss: 0.5021 - val_accuracy: 0.8222\n",
      "Epoch 51/500\n",
      "6/6 [==============================] - 0s 8ms/step - loss: 0.4659 - accuracy: 0.7430 - val_loss: 0.5010 - val_accuracy: 0.8222\n",
      "Epoch 52/500\n",
      "6/6 [==============================] - 0s 11ms/step - loss: 0.4636 - accuracy: 0.7709 - val_loss: 0.5012 - val_accuracy: 0.8000\n",
      "Epoch 53/500\n",
      "6/6 [==============================] - 0s 8ms/step - loss: 0.4375 - accuracy: 0.7598 - val_loss: 0.5005 - val_accuracy: 0.8222\n",
      "Epoch 54/500\n",
      "6/6 [==============================] - 0s 9ms/step - loss: 0.4922 - accuracy: 0.7318 - val_loss: 0.4981 - val_accuracy: 0.8222\n",
      "Epoch 55/500\n",
      "6/6 [==============================] - 0s 9ms/step - loss: 0.4841 - accuracy: 0.7598 - val_loss: 0.4961 - val_accuracy: 0.8000\n",
      "Epoch 56/500\n",
      "6/6 [==============================] - 0s 9ms/step - loss: 0.4848 - accuracy: 0.7654 - val_loss: 0.4936 - val_accuracy: 0.8000\n",
      "Epoch 57/500\n",
      "6/6 [==============================] - 0s 9ms/step - loss: 0.4586 - accuracy: 0.7709 - val_loss: 0.4897 - val_accuracy: 0.7778\n",
      "Epoch 58/500\n",
      "6/6 [==============================] - 0s 9ms/step - loss: 0.5029 - accuracy: 0.7374 - val_loss: 0.4882 - val_accuracy: 0.8000\n",
      "Epoch 59/500\n",
      "6/6 [==============================] - 0s 9ms/step - loss: 0.4738 - accuracy: 0.7263 - val_loss: 0.4845 - val_accuracy: 0.8000\n",
      "Epoch 60/500\n",
      "6/6 [==============================] - 0s 13ms/step - loss: 0.4258 - accuracy: 0.7430 - val_loss: 0.4826 - val_accuracy: 0.8000\n",
      "Epoch 61/500\n",
      "6/6 [==============================] - 0s 12ms/step - loss: 0.4534 - accuracy: 0.7765 - val_loss: 0.4813 - val_accuracy: 0.8000\n",
      "Epoch 62/500\n",
      "6/6 [==============================] - 0s 8ms/step - loss: 0.4240 - accuracy: 0.7821 - val_loss: 0.4819 - val_accuracy: 0.8000\n",
      "Epoch 63/500\n",
      "6/6 [==============================] - 0s 8ms/step - loss: 0.4300 - accuracy: 0.7821 - val_loss: 0.4826 - val_accuracy: 0.8000\n",
      "Epoch 64/500\n",
      "6/6 [==============================] - 0s 8ms/step - loss: 0.4421 - accuracy: 0.7430 - val_loss: 0.4813 - val_accuracy: 0.8000\n",
      "Epoch 65/500\n",
      "6/6 [==============================] - 0s 9ms/step - loss: 0.4204 - accuracy: 0.7598 - val_loss: 0.4796 - val_accuracy: 0.8000\n",
      "Epoch 66/500\n",
      "6/6 [==============================] - 0s 12ms/step - loss: 0.4469 - accuracy: 0.7821 - val_loss: 0.4795 - val_accuracy: 0.8000\n",
      "Epoch 67/500\n",
      "6/6 [==============================] - 0s 8ms/step - loss: 0.4432 - accuracy: 0.7374 - val_loss: 0.4796 - val_accuracy: 0.8000\n",
      "Epoch 68/500\n",
      "6/6 [==============================] - 0s 8ms/step - loss: 0.4337 - accuracy: 0.7318 - val_loss: 0.4786 - val_accuracy: 0.8000\n",
      "Epoch 69/500\n",
      "6/6 [==============================] - 0s 9ms/step - loss: 0.4515 - accuracy: 0.7430 - val_loss: 0.4779 - val_accuracy: 0.8000\n",
      "Epoch 70/500\n",
      "6/6 [==============================] - 0s 8ms/step - loss: 0.3938 - accuracy: 0.7877 - val_loss: 0.4799 - val_accuracy: 0.7778\n",
      "Epoch 71/500\n",
      "6/6 [==============================] - 0s 8ms/step - loss: 0.4267 - accuracy: 0.7598 - val_loss: 0.4809 - val_accuracy: 0.7778\n",
      "Epoch 72/500\n",
      "6/6 [==============================] - 0s 8ms/step - loss: 0.4460 - accuracy: 0.7542 - val_loss: 0.4803 - val_accuracy: 0.7778\n",
      "Epoch 73/500\n",
      "6/6 [==============================] - 0s 8ms/step - loss: 0.4369 - accuracy: 0.7542 - val_loss: 0.4823 - val_accuracy: 0.7778\n",
      "Epoch 74/500\n",
      "6/6 [==============================] - 0s 12ms/step - loss: 0.4496 - accuracy: 0.7542 - val_loss: 0.4831 - val_accuracy: 0.7778\n",
      "Epoch 75/500\n",
      "6/6 [==============================] - 0s 8ms/step - loss: 0.4268 - accuracy: 0.7933 - val_loss: 0.4833 - val_accuracy: 0.7778\n",
      "Epoch 76/500\n",
      "6/6 [==============================] - 0s 8ms/step - loss: 0.4266 - accuracy: 0.7654 - val_loss: 0.4838 - val_accuracy: 0.7778\n",
      "Epoch 77/500\n",
      "6/6 [==============================] - 0s 9ms/step - loss: 0.4089 - accuracy: 0.7542 - val_loss: 0.4857 - val_accuracy: 0.7778\n",
      "Epoch 78/500\n",
      "6/6 [==============================] - 0s 8ms/step - loss: 0.4358 - accuracy: 0.7654 - val_loss: 0.4865 - val_accuracy: 0.7778\n",
      "Epoch 79/500\n",
      "6/6 [==============================] - 0s 9ms/step - loss: 0.4151 - accuracy: 0.7542 - val_loss: 0.4831 - val_accuracy: 0.8000\n",
      "Epoch 80/500\n",
      "6/6 [==============================] - 0s 8ms/step - loss: 0.4455 - accuracy: 0.7709 - val_loss: 0.4796 - val_accuracy: 0.8000\n",
      "Epoch 81/500\n",
      "6/6 [==============================] - 0s 9ms/step - loss: 0.4236 - accuracy: 0.7486 - val_loss: 0.4757 - val_accuracy: 0.7778\n",
      "Epoch 82/500\n",
      "6/6 [==============================] - 0s 9ms/step - loss: 0.4815 - accuracy: 0.7263 - val_loss: 0.4721 - val_accuracy: 0.7778\n",
      "Epoch 83/500\n",
      "6/6 [==============================] - 0s 11ms/step - loss: 0.4491 - accuracy: 0.7151 - val_loss: 0.4715 - val_accuracy: 0.8000\n",
      "Epoch 84/500\n",
      "6/6 [==============================] - 0s 9ms/step - loss: 0.4494 - accuracy: 0.7430 - val_loss: 0.4746 - val_accuracy: 0.8000\n",
      "Epoch 85/500\n",
      "6/6 [==============================] - 0s 8ms/step - loss: 0.4729 - accuracy: 0.7542 - val_loss: 0.4756 - val_accuracy: 0.7778\n",
      "Epoch 86/500\n",
      "6/6 [==============================] - 0s 8ms/step - loss: 0.4645 - accuracy: 0.7430 - val_loss: 0.4744 - val_accuracy: 0.8000\n",
      "Epoch 87/500\n",
      "6/6 [==============================] - 0s 8ms/step - loss: 0.4327 - accuracy: 0.7542 - val_loss: 0.4732 - val_accuracy: 0.8000\n",
      "Epoch 88/500\n",
      "6/6 [==============================] - 0s 8ms/step - loss: 0.4553 - accuracy: 0.7486 - val_loss: 0.4727 - val_accuracy: 0.8000\n",
      "Epoch 89/500\n",
      "6/6 [==============================] - 0s 8ms/step - loss: 0.4559 - accuracy: 0.7151 - val_loss: 0.4746 - val_accuracy: 0.8000\n",
      "Epoch 90/500\n",
      "6/6 [==============================] - 0s 8ms/step - loss: 0.4178 - accuracy: 0.7877 - val_loss: 0.4782 - val_accuracy: 0.8000\n",
      "Epoch 91/500\n",
      "6/6 [==============================] - 0s 8ms/step - loss: 0.4249 - accuracy: 0.7318 - val_loss: 0.4813 - val_accuracy: 0.8000\n",
      "Epoch 92/500\n",
      "6/6 [==============================] - 0s 9ms/step - loss: 0.4323 - accuracy: 0.7877 - val_loss: 0.4824 - val_accuracy: 0.8000\n",
      "Epoch 93/500\n",
      "6/6 [==============================] - 0s 9ms/step - loss: 0.4036 - accuracy: 0.7709 - val_loss: 0.4837 - val_accuracy: 0.8000\n",
      "Epoch 94/500\n",
      "6/6 [==============================] - 0s 9ms/step - loss: 0.4376 - accuracy: 0.7318 - val_loss: 0.4825 - val_accuracy: 0.8000\n",
      "Epoch 95/500\n",
      "6/6 [==============================] - 0s 8ms/step - loss: 0.4323 - accuracy: 0.7877 - val_loss: 0.4815 - val_accuracy: 0.7778\n",
      "Epoch 96/500\n",
      "6/6 [==============================] - 0s 8ms/step - loss: 0.4728 - accuracy: 0.7318 - val_loss: 0.4829 - val_accuracy: 0.7778\n",
      "Epoch 97/500\n",
      "6/6 [==============================] - 0s 8ms/step - loss: 0.3995 - accuracy: 0.8212 - val_loss: 0.4822 - val_accuracy: 0.7333\n",
      "Epoch 98/500\n",
      "6/6 [==============================] - 0s 8ms/step - loss: 0.4207 - accuracy: 0.7486 - val_loss: 0.4807 - val_accuracy: 0.7556\n",
      "Epoch 99/500\n",
      "6/6 [==============================] - 0s 8ms/step - loss: 0.3937 - accuracy: 0.7486 - val_loss: 0.4816 - val_accuracy: 0.7556\n",
      "Epoch 100/500\n",
      "6/6 [==============================] - 0s 8ms/step - loss: 0.3795 - accuracy: 0.7821 - val_loss: 0.4817 - val_accuracy: 0.7556\n",
      "Epoch 101/500\n",
      "6/6 [==============================] - 0s 8ms/step - loss: 0.4229 - accuracy: 0.7486 - val_loss: 0.4829 - val_accuracy: 0.7778\n",
      "Epoch 102/500\n",
      "6/6 [==============================] - 0s 8ms/step - loss: 0.4062 - accuracy: 0.7374 - val_loss: 0.4814 - val_accuracy: 0.7778\n",
      "Epoch 103/500\n",
      "6/6 [==============================] - 0s 8ms/step - loss: 0.4233 - accuracy: 0.7598 - val_loss: 0.4816 - val_accuracy: 0.7556\n",
      "Epoch 104/500\n",
      "6/6 [==============================] - 0s 12ms/step - loss: 0.4300 - accuracy: 0.7486 - val_loss: 0.4804 - val_accuracy: 0.7333\n",
      "Epoch 105/500\n",
      "6/6 [==============================] - 0s 8ms/step - loss: 0.4192 - accuracy: 0.7877 - val_loss: 0.4791 - val_accuracy: 0.7333\n",
      "Epoch 106/500\n",
      "6/6 [==============================] - 0s 8ms/step - loss: 0.4264 - accuracy: 0.7542 - val_loss: 0.4802 - val_accuracy: 0.7556\n",
      "Epoch 107/500\n",
      "6/6 [==============================] - 0s 11ms/step - loss: 0.3958 - accuracy: 0.7709 - val_loss: 0.4808 - val_accuracy: 0.7556\n",
      "Epoch 108/500\n",
      "6/6 [==============================] - 0s 8ms/step - loss: 0.4033 - accuracy: 0.7709 - val_loss: 0.4827 - val_accuracy: 0.7556\n",
      "Epoch 109/500\n",
      "6/6 [==============================] - 0s 11ms/step - loss: 0.3991 - accuracy: 0.7709 - val_loss: 0.4831 - val_accuracy: 0.7778\n",
      "Epoch 110/500\n",
      "6/6 [==============================] - 0s 11ms/step - loss: 0.4198 - accuracy: 0.7374 - val_loss: 0.4841 - val_accuracy: 0.7556\n",
      "Epoch 111/500\n",
      "6/6 [==============================] - 0s 8ms/step - loss: 0.4107 - accuracy: 0.7654 - val_loss: 0.4867 - val_accuracy: 0.7556\n",
      "Epoch 112/500\n",
      "6/6 [==============================] - 0s 11ms/step - loss: 0.3982 - accuracy: 0.7989 - val_loss: 0.4912 - val_accuracy: 0.7556\n"
     ]
    }
   ],
   "source": [
    "# Train the ANN\n",
    "history = model.fit(X_train, y_train, batch_size = 32, epochs = 500,callbacks=[early_stopping], validation_split=0.2)"
   ]
  },
  {
   "cell_type": "code",
   "execution_count": 10,
   "id": "7cc5ef87",
   "metadata": {
    "execution": {
     "iopub.execute_input": "2023-07-11T14:00:48.463086Z",
     "iopub.status.busy": "2023-07-11T14:00:48.462658Z",
     "iopub.status.idle": "2023-07-11T14:00:48.468921Z",
     "shell.execute_reply": "2023-07-11T14:00:48.467779Z"
    },
    "id": "JVuPiCFyGHFE",
    "outputId": "a5cd914f-87db-4356-d6d4-63e785e2275a",
    "papermill": {
     "duration": 0.047376,
     "end_time": "2023-07-11T14:00:48.471489",
     "exception": false,
     "start_time": "2023-07-11T14:00:48.424113",
     "status": "completed"
    },
    "tags": []
   },
   "outputs": [
    {
     "name": "stdout",
     "output_type": "stream",
     "text": [
      "\n",
      "val_accuracy: 73.75%\n"
     ]
    }
   ],
   "source": [
    "val_accuracy = np.mean(history.history['val_accuracy'])\n",
    "print(\"\\n%s: %.2f%%\" % ('val_accuracy', val_accuracy*100))"
   ]
  },
  {
   "cell_type": "code",
   "execution_count": 11,
   "id": "26e63968",
   "metadata": {
    "execution": {
     "iopub.execute_input": "2023-07-11T14:00:48.548311Z",
     "iopub.status.busy": "2023-07-11T14:00:48.547406Z",
     "iopub.status.idle": "2023-07-11T14:00:48.749526Z",
     "shell.execute_reply": "2023-07-11T14:00:48.748621Z"
    },
    "id": "mJbFCaiUGxYO",
    "papermill": {
     "duration": 0.243482,
     "end_time": "2023-07-11T14:00:48.752076",
     "exception": false,
     "start_time": "2023-07-11T14:00:48.508594",
     "status": "completed"
    },
    "tags": []
   },
   "outputs": [
    {
     "name": "stdout",
     "output_type": "stream",
     "text": [
      "3/3 [==============================] - 0s 2ms/step\n"
     ]
    }
   ],
   "source": [
    "# Predicting the test set results\n",
    "y_pred = model.predict(X_test)\n",
    "y_pred = (y_pred > 0.5)\n",
    "np.set_printoptions()"
   ]
  },
  {
   "cell_type": "code",
   "execution_count": 12,
   "id": "c45f0fb2",
   "metadata": {
    "execution": {
     "iopub.execute_input": "2023-07-11T14:00:48.830000Z",
     "iopub.status.busy": "2023-07-11T14:00:48.828994Z",
     "iopub.status.idle": "2023-07-11T14:00:48.837979Z",
     "shell.execute_reply": "2023-07-11T14:00:48.836819Z"
    },
    "id": "VeIPY9SwG3YX",
    "outputId": "7f3aeb0a-684a-433c-e435-21bb74966440",
    "papermill": {
     "duration": 0.050107,
     "end_time": "2023-07-11T14:00:48.840448",
     "exception": false,
     "start_time": "2023-07-11T14:00:48.790341",
     "status": "completed"
    },
    "tags": []
   },
   "outputs": [
    {
     "data": {
      "text/plain": [
       "268    0\n",
       "240    0\n",
       "278    0\n",
       "176    0\n",
       "202    0\n",
       "      ..\n",
       "24     1\n",
       "62     0\n",
       "249    0\n",
       "90     0\n",
       "50     1\n",
       "Name: DEATH_EVENT, Length: 75, dtype: int64"
      ]
     },
     "execution_count": 12,
     "metadata": {},
     "output_type": "execute_result"
    }
   ],
   "source": [
    "y_test"
   ]
  },
  {
   "cell_type": "code",
   "execution_count": 13,
   "id": "f52c07ce",
   "metadata": {
    "execution": {
     "iopub.execute_input": "2023-07-11T14:00:48.917987Z",
     "iopub.status.busy": "2023-07-11T14:00:48.916723Z",
     "iopub.status.idle": "2023-07-11T14:00:49.279947Z",
     "shell.execute_reply": "2023-07-11T14:00:49.278793Z"
    },
    "id": "cqv-7IdyH8py",
    "outputId": "0d9e260d-4bcb-4d39-c615-3bda18d74d30",
    "papermill": {
     "duration": 0.404743,
     "end_time": "2023-07-11T14:00:49.282720",
     "exception": false,
     "start_time": "2023-07-11T14:00:48.877977",
     "status": "completed"
    },
    "tags": []
   },
   "outputs": [
    {
     "data": {
      "text/plain": [
       "<Axes: >"
      ]
     },
     "execution_count": 13,
     "metadata": {},
     "output_type": "execute_result"
    },
    {
     "data": {
      "image/png": "[encoded data removed]",
      "text/plain": [
       "<Figure size 1200x800 with 2 Axes>"
      ]
     },
     "metadata": {},
     "output_type": "display_data"
    }
   ],
   "source": [
    "cmap1 = sns.diverging_palette(275,150,  s=40, l=65, n=6)\n",
    "plt.subplots(figsize=(12,8))\n",
    "cf_matrix = confusion_matrix(y_test, y_pred)\n",
    "sns.heatmap(cf_matrix/np.sum(cf_matrix), cmap = cmap1, annot = True, annot_kws = {'size':15})"
   ]
  },
  {
   "cell_type": "code",
   "execution_count": null,
   "id": "69ee7447",
   "metadata": {
    "id": "LgpZaPGyHftG",
    "papermill": {
     "duration": 0.03775,
     "end_time": "2023-07-11T14:00:49.358420",
     "exception": false,
     "start_time": "2023-07-11T14:00:49.320670",
     "status": "completed"
    },
    "tags": []
   },
   "outputs": [],
   "source": []
  },
  {
   "cell_type": "code",
   "execution_count": null,
   "id": "31b67028",
   "metadata": {
    "id": "RVde7uwjIGTo",
    "papermill": {
     "duration": 0.03894,
     "end_time": "2023-07-11T14:00:49.436539",
     "exception": false,
     "start_time": "2023-07-11T14:00:49.397599",
     "status": "completed"
    },
    "tags": []
   },
   "outputs": [],
   "source": [
    "\n"
   ]
  },
  {
   "cell_type": "code",
   "execution_count": null,
   "id": "9c3cef5e",
   "metadata": {
    "id": "oHHrS5UxItAJ",
    "papermill": {
     "duration": 0.038623,
     "end_time": "2023-07-11T14:00:49.513083",
     "exception": false,
     "start_time": "2023-07-11T14:00:49.474460",
     "status": "completed"
    },
    "tags": []
   },
   "outputs": [],
   "source": []
  }
 ],
 "metadata": {
  "kernelspec": {
   "display_name": "Python 3",
   "language": "python",
   "name": "python3"
  },
  "language_info": {
   "codemirror_mode": {
    "name": "ipython",
    "version": 3
   },
   "file_extension": ".py",
   "mimetype": "text/x-python",
   "name": "python",
   "nbconvert_exporter": "python",
   "pygments_lexer": "ipython3",
   "version": "3.10.12"
  },
  "papermill": {
   "default_parameters": {},
   "duration": 35.833154,
   "end_time": "2023-07-11T14:00:51.581334",
   "environment_variables": {},
   "exception": null,
   "input_path": "__notebook__.ipynb",
   "output_path": "__notebook__.ipynb",
   "parameters": {},
   "start_time": "2023-07-11T14:00:15.748180",
   "version": "2.4.0"
  }
 },
 "nbformat": 4,
 "nbformat_minor": 5
}
